{
 "cells": [
  {
   "cell_type": "code",
   "execution_count": 0,
   "metadata": {
    "colab": {},
    "colab_type": "code",
    "id": "us4kD1XM7iMG"
   },
   "outputs": [],
   "source": [
    "def crearCuenta(clientes,numCuentas):\n",
    "\n",
    "#Este método lo que hace es crear una cuenta bancaria\n",
    "\n",
    "  nombre = input('Introduzca nombre: ')\n",
    "\n",
    "  apellido = input('Introduzca apellido: ')\n",
    "\n",
    "  #Estamos creando una lista donde el índex en vez de ser un número, \n",
    "  #es el nombre de la variable, de este modo nos creamos una estructura.\n",
    "\n",
    "  cuenta ={'nombre':nombre,'apellido':apellido,\n",
    "           'cuenta':{'saldo':0,'numeroCuenta':numCuentas}}\n",
    "\n",
    "  clientes.append(cuenta)\n",
    "\n",
    "  numCuentas += 1\n",
    "\n",
    "  print(\"Cuenta creada\")\n",
    "\n",
    "  input(\"Pulse Enter para continuar...\")\n",
    "\n",
    "  return clientes,numCuentas"
   ]
  },
  {
   "cell_type": "code",
   "execution_count": 0,
   "metadata": {
    "colab": {},
    "colab_type": "code",
    "id": "hWwKDtWT7q6g"
   },
   "outputs": [],
   "source": [
    "def hacerIngreso(clientes):\n",
    "\n",
    " # Este método realiza el incremento del saldo de un cliente.\n",
    "\n",
    " if len(clientes) > 0:\n",
    "\n",
    "   cuenta = input('Por favor indique el numero de cuenta al que desea hacer el ingreso:')\n",
    "\n",
    "   cantidad = input('Por favor indique la cantidad a ingresar:')\n",
    "\n",
    "   saldoActual=clientes[int(cuenta)]['cuenta']['saldo']\n",
    "\n",
    "   clientes[int(cuenta)]['cuenta']['saldo']=saldoActual+int(cantidad)\n",
    "\n",
    "   print('Se ha realizado el ingreso')\n",
    "\n",
    " else:\n",
    "\n",
    "   print(\"no existen cuentas\")\n",
    "\n",
    "   input(\"Pulse Enter para continuar...\")"
   ]
  },
  {
   "cell_type": "code",
   "execution_count": 0,
   "metadata": {
    "colab": {},
    "colab_type": "code",
    "id": "Smu1jVe_7tmN"
   },
   "outputs": [],
   "source": [
    "def visualizarCuentas(clientes):\n",
    "\n",
    "#Este método visualiza todas las cuentas que existen creadas \n",
    "#en este momento, recorremos la lista mostrando sus elementos\n",
    "\n",
    "  if len(clientes) > 0:\n",
    "\n",
    "    for cliente in clientes:\n",
    "      print('Nombre: ' + cliente['nombre'])\n",
    "\n",
    "      print('Apellido: ' + cliente['apellido'])\n",
    "\n",
    "      print('Número de Cuenta: ' + str(cliente['cuenta']['numeroCuenta']))\n",
    "\n",
    "      print('\\n')\n",
    "\n",
    "  else:\n",
    "\n",
    "    print('No existen cuentas para listar')\n",
    "\n",
    "    input(\"Pulse Enter para continuar...\")"
   ]
  },
  {
   "cell_type": "code",
   "execution_count": 0,
   "metadata": {
    "colab": {},
    "colab_type": "code",
    "id": "Jzm9kEzg7wHd"
   },
   "outputs": [],
   "source": [
    "def consultarsaldo(clientes, numCta):\n",
    "  \n",
    "  registro = False\n",
    "  \n",
    "  saldo = 0\n",
    "  \n",
    "  if len(clientes) > 0 :\n",
    "    \n",
    "    for cliente in clientes:\n",
    "      \n",
    "      if cliente['cuenta']['numeroCuenta'] == numCta:\n",
    "        \n",
    "        saldo = cliente['cuenta']['saldo']\n",
    "        \n",
    "        print('Cuenta Consultada:')\n",
    "        \n",
    "        print('Nombre: ' + cliente['nombre'])\n",
    "\n",
    "        print('Apellido: ' + cliente['apellido'])\n",
    "        \n",
    "        print('Saldo: ' + str(saldo))\n",
    "        \n",
    "        registro = True\n",
    "        \n",
    "    if not registro:\n",
    "\n",
    "      print('El número de cuenta no está registrado')\n",
    "        \n",
    "  else:\n",
    "    \n",
    "    return -1\n",
    "    \n",
    "    print('No existen cuentas para listar')\n",
    "\n",
    "    input(\"Pulse Enter para continuar...\")\n",
    "    \n",
    "  return saldo"
   ]
  },
  {
   "cell_type": "code",
   "execution_count": 0,
   "metadata": {
    "colab": {},
    "colab_type": "code",
    "id": "kgVBNUMV7zR9"
   },
   "outputs": [],
   "source": [
    "def hacerretiro(clientes,numCta,cantidad):\n",
    "  \n",
    "  saldo = consultarsaldo(clientes, numCta)\n",
    "  \n",
    "  if saldo == -1:\n",
    "    \n",
    "    print('El número de cuenta no existe')\n",
    "    \n",
    "    return clientes\n",
    "  \n",
    "  if saldo < cantidad:\n",
    "    \n",
    "    print('El saldo es Insuficiente')\n",
    "    \n",
    "    return clientes\n",
    "  \n",
    "  usuario = [cliente for cliente in clientes \n",
    "             if cliente['cuenta']['numeroCuenta'] == numCta][0]\n",
    "  \n",
    "  usuario['cuenta']['saldo'] -= cantidad\n",
    "  \n",
    "  print('Cuenta Actualizada:')\n",
    "  \n",
    "  print('Nombre: ' + usuario['nombre'])\n",
    "\n",
    "  print('Apellido: ' + usuario['apellido'])\n",
    "        \n",
    "  print('Saldo nuevo: ' + str(usuario['cuenta']['saldo']))\n",
    "  \n",
    "  return clientes"
   ]
  },
  {
   "cell_type": "code",
   "execution_count": 6,
   "metadata": {
    "colab": {
     "base_uri": "https://localhost:8080/",
     "height": 218
    },
    "colab_type": "code",
    "executionInfo": {
     "elapsed": 437,
     "status": "ok",
     "timestamp": 1568567956848,
     "user": {
      "displayName": "CLAUDIO CUEVAS PAZOS",
      "photoUrl": "https://lh3.googleusercontent.com/a-/AAuE7mDOp4_B8SevbJb36SPP7RLq-MZp_TsJ6U6FfNsV3w=s64",
      "userId": "10789911121423299068"
     },
     "user_tz": 300
    },
    "id": "yVgyQgX872TV",
    "outputId": "6f4701e2-5c02-4a53-b28b-8ab6e72fb81f"
   },
   "outputs": [
    {
     "name": "stdout",
     "output_type": "stream",
     "text": [
      "Cuenta Consultada:\n",
      "Nombre: Carlos\n",
      "Apellido: Lopez\n",
      "Saldo: 1000\n",
      "Cuenta Consultada:\n",
      "Nombre: Carlos\n",
      "Apellido: Lopez\n",
      "Saldo: 1000\n",
      "Cuenta Actualizada:\n",
      "Nombre: Carlos\n",
      "Apellido: Lopez\n",
      "Saldo nuevo: 980\n"
     ]
    }
   ],
   "source": [
    "clientes=[]\n",
    "\n",
    "numCuentas=0\n",
    "\n",
    "cuenta={'nombre':'Javier','apellido':'Ceballos','cuenta':{'saldo':100,'numeroCuenta':1200}}\n",
    "\n",
    "clientes.append(cuenta);\n",
    "\n",
    "cuenta={'nombre':'Carlos','apellido':'Lopez','cuenta':{'saldo':1000,'numeroCuenta':1210}}\n",
    "\n",
    "clientes.append(cuenta);\n",
    "\n",
    "consultarsaldo(clientes, 1210)\n",
    "\n",
    "clientes = hacerretiro(clientes,1210,20)"
   ]
  },
  {
   "cell_type": "code",
   "execution_count": 8,
   "metadata": {
    "colab": {
     "base_uri": "https://localhost:8080/",
     "height": 67
    },
    "colab_type": "code",
    "executionInfo": {
     "elapsed": 389,
     "status": "ok",
     "timestamp": 1568567982393,
     "user": {
      "displayName": "CLAUDIO CUEVAS PAZOS",
      "photoUrl": "https://lh3.googleusercontent.com/a-/AAuE7mDOp4_B8SevbJb36SPP7RLq-MZp_TsJ6U6FfNsV3w=s64",
      "userId": "10789911121423299068"
     },
     "user_tz": 300
    },
    "id": "204QPa_k75Nl",
    "outputId": "b29907ec-48fa-431a-e1c9-cfbcc7ec967a"
   },
   "outputs": [
    {
     "data": {
      "text/plain": [
       "[{'apellido': 'Lopez',\n",
       "  'cuenta': {'numeroCuenta': 1210, 'saldo': 980},\n",
       "  'nombre': 'Carlos'}]"
      ]
     },
     "execution_count": 8,
     "metadata": {
      "tags": []
     },
     "output_type": "execute_result"
    }
   ],
   "source": [
    "usuario=[cliente for cliente in clientes if cliente['cuenta']['numeroCuenta'] == 1210]\n",
    "usuario"
   ]
  },
  {
   "cell_type": "code",
   "execution_count": 0,
   "metadata": {
    "colab": {},
    "colab_type": "code",
    "id": "CiIGjpUj78Zr"
   },
   "outputs": [],
   "source": []
  }
 ],
 "metadata": {
  "colab": {
   "name": "Intro Python.ipynb",
   "provenance": [],
   "version": "0.3.2"
  },
  "kernelspec": {
   "display_name": "Python 3",
   "language": "python",
   "name": "python3"
  },
  "language_info": {
   "codemirror_mode": {
    "name": "ipython",
    "version": 3
   },
   "file_extension": ".py",
   "mimetype": "text/x-python",
   "name": "python",
   "nbconvert_exporter": "python",
   "pygments_lexer": "ipython3",
   "version": "3.6.8"
  }
 },
 "nbformat": 4,
 "nbformat_minor": 1
}
