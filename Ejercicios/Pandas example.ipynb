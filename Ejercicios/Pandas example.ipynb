{
 "cells": [
  {
   "cell_type": "code",
   "execution_count": 2,
   "metadata": {},
   "outputs": [],
   "source": [
    "import pandas as pd\n",
    "import numpy as np"
   ]
  },
  {
   "cell_type": "code",
   "execution_count": 3,
   "metadata": {},
   "outputs": [],
   "source": [
    "ipc = pd.read_csv(\"IPC.csv\")"
   ]
  },
  {
   "cell_type": "code",
   "execution_count": 4,
   "metadata": {},
   "outputs": [
    {
     "data": {
      "text/html": [
       "<div>\n",
       "<style scoped>\n",
       "    .dataframe tbody tr th:only-of-type {\n",
       "        vertical-align: middle;\n",
       "    }\n",
       "\n",
       "    .dataframe tbody tr th {\n",
       "        vertical-align: top;\n",
       "    }\n",
       "\n",
       "    .dataframe thead th {\n",
       "        text-align: right;\n",
       "    }\n",
       "</style>\n",
       "<table border=\"1\" class=\"dataframe\">\n",
       "  <thead>\n",
       "    <tr style=\"text-align: right;\">\n",
       "      <th></th>\n",
       "      <th>Date</th>\n",
       "      <th>Open</th>\n",
       "      <th>High</th>\n",
       "      <th>Low</th>\n",
       "      <th>Close</th>\n",
       "      <th>Adj Close</th>\n",
       "      <th>Volume</th>\n",
       "    </tr>\n",
       "  </thead>\n",
       "  <tbody>\n",
       "    <tr>\n",
       "      <th>0</th>\n",
       "      <td>2018-09-17</td>\n",
       "      <td>49553.878906</td>\n",
       "      <td>49810.050781</td>\n",
       "      <td>49373.539063</td>\n",
       "      <td>49398.570313</td>\n",
       "      <td>49398.570313</td>\n",
       "      <td>75804000</td>\n",
       "    </tr>\n",
       "    <tr>\n",
       "      <th>1</th>\n",
       "      <td>2018-09-18</td>\n",
       "      <td>49412.000000</td>\n",
       "      <td>49843.589844</td>\n",
       "      <td>49395.511719</td>\n",
       "      <td>49661.828125</td>\n",
       "      <td>49661.828125</td>\n",
       "      <td>104226700</td>\n",
       "    </tr>\n",
       "    <tr>\n",
       "      <th>2</th>\n",
       "      <td>2018-09-19</td>\n",
       "      <td>49623.980469</td>\n",
       "      <td>49887.789063</td>\n",
       "      <td>49536.320313</td>\n",
       "      <td>49590.789063</td>\n",
       "      <td>49590.789063</td>\n",
       "      <td>129421200</td>\n",
       "    </tr>\n",
       "    <tr>\n",
       "      <th>3</th>\n",
       "      <td>2018-09-20</td>\n",
       "      <td>49590.980469</td>\n",
       "      <td>49812.140625</td>\n",
       "      <td>49315.390625</td>\n",
       "      <td>49510.781250</td>\n",
       "      <td>49510.781250</td>\n",
       "      <td>94879400</td>\n",
       "    </tr>\n",
       "    <tr>\n",
       "      <th>4</th>\n",
       "      <td>2018-09-21</td>\n",
       "      <td>49483.039063</td>\n",
       "      <td>49732.351563</td>\n",
       "      <td>49296.570313</td>\n",
       "      <td>49344.289063</td>\n",
       "      <td>49344.289063</td>\n",
       "      <td>543954900</td>\n",
       "    </tr>\n",
       "  </tbody>\n",
       "</table>\n",
       "</div>"
      ],
      "text/plain": [
       "         Date          Open          High           Low         Close  \\\n",
       "0  2018-09-17  49553.878906  49810.050781  49373.539063  49398.570313   \n",
       "1  2018-09-18  49412.000000  49843.589844  49395.511719  49661.828125   \n",
       "2  2018-09-19  49623.980469  49887.789063  49536.320313  49590.789063   \n",
       "3  2018-09-20  49590.980469  49812.140625  49315.390625  49510.781250   \n",
       "4  2018-09-21  49483.039063  49732.351563  49296.570313  49344.289063   \n",
       "\n",
       "      Adj Close     Volume  \n",
       "0  49398.570313   75804000  \n",
       "1  49661.828125  104226700  \n",
       "2  49590.789063  129421200  \n",
       "3  49510.781250   94879400  \n",
       "4  49344.289063  543954900  "
      ]
     },
     "execution_count": 4,
     "metadata": {},
     "output_type": "execute_result"
    }
   ],
   "source": [
    "ipc.head()"
   ]
  },
  {
   "cell_type": "code",
   "execution_count": 10,
   "metadata": {},
   "outputs": [],
   "source": [
    "ipc.set_index(\"Date\",inplace=True)"
   ]
  },
  {
   "cell_type": "code",
   "execution_count": 42,
   "metadata": {},
   "outputs": [
    {
     "data": {
      "text/html": [
       "<div>\n",
       "<style scoped>\n",
       "    .dataframe tbody tr th:only-of-type {\n",
       "        vertical-align: middle;\n",
       "    }\n",
       "\n",
       "    .dataframe tbody tr th {\n",
       "        vertical-align: top;\n",
       "    }\n",
       "\n",
       "    .dataframe thead th {\n",
       "        text-align: right;\n",
       "    }\n",
       "</style>\n",
       "<table border=\"1\" class=\"dataframe\">\n",
       "  <thead>\n",
       "    <tr style=\"text-align: right;\">\n",
       "      <th></th>\n",
       "      <th>Open</th>\n",
       "      <th>High</th>\n",
       "      <th>Low</th>\n",
       "      <th>Close</th>\n",
       "      <th>Adj Close</th>\n",
       "      <th>Volume</th>\n",
       "      <th>Year</th>\n",
       "      <th>Month</th>\n",
       "    </tr>\n",
       "    <tr>\n",
       "      <th>Date</th>\n",
       "      <th></th>\n",
       "      <th></th>\n",
       "      <th></th>\n",
       "      <th></th>\n",
       "      <th></th>\n",
       "      <th></th>\n",
       "      <th></th>\n",
       "      <th></th>\n",
       "    </tr>\n",
       "  </thead>\n",
       "  <tbody>\n",
       "    <tr>\n",
       "      <th>2018-09-17</th>\n",
       "      <td>49553.878906</td>\n",
       "      <td>49810.050781</td>\n",
       "      <td>49373.539063</td>\n",
       "      <td>49398.570313</td>\n",
       "      <td>49398.570313</td>\n",
       "      <td>75804000</td>\n",
       "      <td>2018</td>\n",
       "      <td>09</td>\n",
       "    </tr>\n",
       "    <tr>\n",
       "      <th>2018-09-18</th>\n",
       "      <td>49412.000000</td>\n",
       "      <td>49843.589844</td>\n",
       "      <td>49395.511719</td>\n",
       "      <td>49661.828125</td>\n",
       "      <td>49661.828125</td>\n",
       "      <td>104226700</td>\n",
       "      <td>2018</td>\n",
       "      <td>09</td>\n",
       "    </tr>\n",
       "    <tr>\n",
       "      <th>2018-09-19</th>\n",
       "      <td>49623.980469</td>\n",
       "      <td>49887.789063</td>\n",
       "      <td>49536.320313</td>\n",
       "      <td>49590.789063</td>\n",
       "      <td>49590.789063</td>\n",
       "      <td>129421200</td>\n",
       "      <td>2018</td>\n",
       "      <td>09</td>\n",
       "    </tr>\n",
       "    <tr>\n",
       "      <th>2018-09-20</th>\n",
       "      <td>49590.980469</td>\n",
       "      <td>49812.140625</td>\n",
       "      <td>49315.390625</td>\n",
       "      <td>49510.781250</td>\n",
       "      <td>49510.781250</td>\n",
       "      <td>94879400</td>\n",
       "      <td>2018</td>\n",
       "      <td>09</td>\n",
       "    </tr>\n",
       "    <tr>\n",
       "      <th>2018-09-21</th>\n",
       "      <td>49483.039063</td>\n",
       "      <td>49732.351563</td>\n",
       "      <td>49296.570313</td>\n",
       "      <td>49344.289063</td>\n",
       "      <td>49344.289063</td>\n",
       "      <td>543954900</td>\n",
       "      <td>2018</td>\n",
       "      <td>09</td>\n",
       "    </tr>\n",
       "  </tbody>\n",
       "</table>\n",
       "</div>"
      ],
      "text/plain": [
       "                    Open          High           Low         Close  \\\n",
       "Date                                                                 \n",
       "2018-09-17  49553.878906  49810.050781  49373.539063  49398.570313   \n",
       "2018-09-18  49412.000000  49843.589844  49395.511719  49661.828125   \n",
       "2018-09-19  49623.980469  49887.789063  49536.320313  49590.789063   \n",
       "2018-09-20  49590.980469  49812.140625  49315.390625  49510.781250   \n",
       "2018-09-21  49483.039063  49732.351563  49296.570313  49344.289063   \n",
       "\n",
       "               Adj Close     Volume  Year Month  \n",
       "Date                                             \n",
       "2018-09-17  49398.570313   75804000  2018    09  \n",
       "2018-09-18  49661.828125  104226700  2018    09  \n",
       "2018-09-19  49590.789063  129421200  2018    09  \n",
       "2018-09-20  49510.781250   94879400  2018    09  \n",
       "2018-09-21  49344.289063  543954900  2018    09  "
      ]
     },
     "execution_count": 42,
     "metadata": {},
     "output_type": "execute_result"
    }
   ],
   "source": [
    "ipc['Year']=[ipc.index[i][0:4] for i in range(len (ipc.index))]\n",
    "ipc['Month']=[ipc.index[i][5:7] for i in range(len (ipc.index))]\n",
    "ipc.head()"
   ]
  },
  {
   "cell_type": "code",
   "execution_count": 39,
   "metadata": {},
   "outputs": [
    {
     "data": {
      "text/html": [
       "<div>\n",
       "<style scoped>\n",
       "    .dataframe tbody tr th:only-of-type {\n",
       "        vertical-align: middle;\n",
       "    }\n",
       "\n",
       "    .dataframe tbody tr th {\n",
       "        vertical-align: top;\n",
       "    }\n",
       "\n",
       "    .dataframe thead th {\n",
       "        text-align: right;\n",
       "    }\n",
       "</style>\n",
       "<table border=\"1\" class=\"dataframe\">\n",
       "  <thead>\n",
       "    <tr style=\"text-align: right;\">\n",
       "      <th></th>\n",
       "      <th>Open</th>\n",
       "      <th>High</th>\n",
       "      <th>Low</th>\n",
       "      <th>Close</th>\n",
       "      <th>Adj Close</th>\n",
       "      <th>Volume</th>\n",
       "    </tr>\n",
       "    <tr>\n",
       "      <th>Year</th>\n",
       "      <th></th>\n",
       "      <th></th>\n",
       "      <th></th>\n",
       "      <th></th>\n",
       "      <th></th>\n",
       "      <th></th>\n",
       "    </tr>\n",
       "  </thead>\n",
       "  <tbody>\n",
       "    <tr>\n",
       "      <th>2018</th>\n",
       "      <td>44908.229655</td>\n",
       "      <td>45248.558431</td>\n",
       "      <td>44478.533149</td>\n",
       "      <td>44785.523926</td>\n",
       "      <td>44785.523926</td>\n",
       "      <td>1.779503e+08</td>\n",
       "    </tr>\n",
       "    <tr>\n",
       "      <th>2019</th>\n",
       "      <td>42817.701655</td>\n",
       "      <td>43066.472788</td>\n",
       "      <td>42549.949789</td>\n",
       "      <td>42815.977397</td>\n",
       "      <td>42815.977397</td>\n",
       "      <td>1.592410e+08</td>\n",
       "    </tr>\n",
       "  </tbody>\n",
       "</table>\n",
       "</div>"
      ],
      "text/plain": [
       "              Open          High           Low         Close     Adj Close  \\\n",
       "Year                                                                         \n",
       "2018  44908.229655  45248.558431  44478.533149  44785.523926  44785.523926   \n",
       "2019  42817.701655  43066.472788  42549.949789  42815.977397  42815.977397   \n",
       "\n",
       "            Volume  \n",
       "Year                \n",
       "2018  1.779503e+08  \n",
       "2019  1.592410e+08  "
      ]
     },
     "execution_count": 39,
     "metadata": {},
     "output_type": "execute_result"
    }
   ],
   "source": [
    "ipc.groupby('Year').mean()"
   ]
  },
  {
   "cell_type": "code",
   "execution_count": 52,
   "metadata": {},
   "outputs": [
    {
     "data": {
      "text/plain": [
       "<matplotlib.axes._subplots.AxesSubplot at 0x1fa11ebfbe0>"
      ]
     },
     "execution_count": 52,
     "metadata": {},
     "output_type": "execute_result"
    },
    {
     "data": {
      "image/png": "[encoded data removed]",
      "text/plain": [
       "<Figure size 432x288 with 1 Axes>"
      ]
     },
     "metadata": {
      "needs_background": "light"
     },
     "output_type": "display_data"
    }
   ],
   "source": [
    "seasons= ipc.groupby('Month').mean()\n",
    "seasons.drop(columns='Volume',inplace=True)\n",
    "seasons.plot()"
   ]
  },
  {
   "cell_type": "code",
   "execution_count": 33,
   "metadata": {},
   "outputs": [
    {
     "data": {
      "text/html": [
       "<div>\n",
       "<style scoped>\n",
       "    .dataframe tbody tr th:only-of-type {\n",
       "        vertical-align: middle;\n",
       "    }\n",
       "\n",
       "    .dataframe tbody tr th {\n",
       "        vertical-align: top;\n",
       "    }\n",
       "\n",
       "    .dataframe thead th {\n",
       "        text-align: right;\n",
       "    }\n",
       "</style>\n",
       "<table border=\"1\" class=\"dataframe\">\n",
       "  <thead>\n",
       "    <tr style=\"text-align: right;\">\n",
       "      <th></th>\n",
       "      <th>Open</th>\n",
       "      <th>High</th>\n",
       "      <th>Low</th>\n",
       "      <th>Close</th>\n",
       "      <th>Adj Close</th>\n",
       "      <th>Volume</th>\n",
       "      <th>Year</th>\n",
       "    </tr>\n",
       "    <tr>\n",
       "      <th>Date</th>\n",
       "      <th></th>\n",
       "      <th></th>\n",
       "      <th></th>\n",
       "      <th></th>\n",
       "      <th></th>\n",
       "      <th></th>\n",
       "      <th></th>\n",
       "    </tr>\n",
       "  </thead>\n",
       "  <tbody>\n",
       "    <tr>\n",
       "      <th>2018-09-17</th>\n",
       "      <td>49553.878906</td>\n",
       "      <td>49810.050781</td>\n",
       "      <td>49373.539063</td>\n",
       "      <td>49398.570313</td>\n",
       "      <td>49398.570313</td>\n",
       "      <td>75804000</td>\n",
       "      <td>2018</td>\n",
       "    </tr>\n",
       "    <tr>\n",
       "      <th>2018-09-18</th>\n",
       "      <td>49412.000000</td>\n",
       "      <td>49843.589844</td>\n",
       "      <td>49395.511719</td>\n",
       "      <td>49661.828125</td>\n",
       "      <td>49661.828125</td>\n",
       "      <td>104226700</td>\n",
       "      <td>2018</td>\n",
       "    </tr>\n",
       "    <tr>\n",
       "      <th>2018-09-19</th>\n",
       "      <td>49623.980469</td>\n",
       "      <td>49887.789063</td>\n",
       "      <td>49536.320313</td>\n",
       "      <td>49590.789063</td>\n",
       "      <td>49590.789063</td>\n",
       "      <td>129421200</td>\n",
       "      <td>2018</td>\n",
       "    </tr>\n",
       "    <tr>\n",
       "      <th>2018-09-20</th>\n",
       "      <td>49590.980469</td>\n",
       "      <td>49812.140625</td>\n",
       "      <td>49315.390625</td>\n",
       "      <td>49510.781250</td>\n",
       "      <td>49510.781250</td>\n",
       "      <td>94879400</td>\n",
       "      <td>2018</td>\n",
       "    </tr>\n",
       "    <tr>\n",
       "      <th>2018-09-21</th>\n",
       "      <td>49483.039063</td>\n",
       "      <td>49732.351563</td>\n",
       "      <td>49296.570313</td>\n",
       "      <td>49344.289063</td>\n",
       "      <td>49344.289063</td>\n",
       "      <td>543954900</td>\n",
       "      <td>2018</td>\n",
       "    </tr>\n",
       "  </tbody>\n",
       "</table>\n",
       "</div>"
      ],
      "text/plain": [
       "                    Open          High           Low         Close  \\\n",
       "Date                                                                 \n",
       "2018-09-17  49553.878906  49810.050781  49373.539063  49398.570313   \n",
       "2018-09-18  49412.000000  49843.589844  49395.511719  49661.828125   \n",
       "2018-09-19  49623.980469  49887.789063  49536.320313  49590.789063   \n",
       "2018-09-20  49590.980469  49812.140625  49315.390625  49510.781250   \n",
       "2018-09-21  49483.039063  49732.351563  49296.570313  49344.289063   \n",
       "\n",
       "               Adj Close     Volume  Year  \n",
       "Date                                       \n",
       "2018-09-17  49398.570313   75804000  2018  \n",
       "2018-09-18  49661.828125  104226700  2018  \n",
       "2018-09-19  49590.789063  129421200  2018  \n",
       "2018-09-20  49510.781250   94879400  2018  \n",
       "2018-09-21  49344.289063  543954900  2018  "
      ]
     },
     "execution_count": 33,
     "metadata": {},
     "output_type": "execute_result"
    }
   ],
   "source": [
    "ipc.head()"
   ]
  },
  {
   "cell_type": "code",
   "execution_count": 23,
   "metadata": {},
   "outputs": [
    {
     "name": "stdout",
     "output_type": "stream",
     "text": [
      "Open         4.341977e+04\n",
      "High         4.369491e+04\n",
      "Low          4.310538e+04\n",
      "Close        4.338321e+04\n",
      "Adj Close    4.338321e+04\n",
      "Volume       1.646293e+08\n",
      "dtype: float64\n",
      "\n",
      "Open         2.362065e+03\n",
      "High         2.336740e+03\n",
      "Low          2.347285e+03\n",
      "Close        2.332827e+03\n",
      "Adj Close    2.332827e+03\n",
      "Volume       8.015784e+07\n",
      "dtype: float64\n"
     ]
    }
   ],
   "source": [
    "print(ipc.mean())\n",
    "print(\"\")\n",
    "print(ipc.std())"
   ]
  },
  {
   "cell_type": "code",
   "execution_count": 34,
   "metadata": {},
   "outputs": [
    {
     "data": {
      "text/html": [
       "<div>\n",
       "<style scoped>\n",
       "    .dataframe tbody tr th:only-of-type {\n",
       "        vertical-align: middle;\n",
       "    }\n",
       "\n",
       "    .dataframe tbody tr th {\n",
       "        vertical-align: top;\n",
       "    }\n",
       "\n",
       "    .dataframe thead th {\n",
       "        text-align: right;\n",
       "    }\n",
       "</style>\n",
       "<table border=\"1\" class=\"dataframe\">\n",
       "  <thead>\n",
       "    <tr style=\"text-align: right;\">\n",
       "      <th></th>\n",
       "      <th>Open</th>\n",
       "      <th>High</th>\n",
       "      <th>Low</th>\n",
       "      <th>Close</th>\n",
       "      <th>Adj Close</th>\n",
       "      <th>Volume</th>\n",
       "    </tr>\n",
       "    <tr>\n",
       "      <th>Date</th>\n",
       "      <th></th>\n",
       "      <th></th>\n",
       "      <th></th>\n",
       "      <th></th>\n",
       "      <th></th>\n",
       "      <th></th>\n",
       "    </tr>\n",
       "  </thead>\n",
       "  <tbody>\n",
       "    <tr>\n",
       "      <th>2018-09-17</th>\n",
       "      <td>NaN</td>\n",
       "      <td>NaN</td>\n",
       "      <td>NaN</td>\n",
       "      <td>NaN</td>\n",
       "      <td>NaN</td>\n",
       "      <td>NaN</td>\n",
       "    </tr>\n",
       "    <tr>\n",
       "      <th>2018-09-18</th>\n",
       "      <td>-0.002867</td>\n",
       "      <td>0.000673</td>\n",
       "      <td>0.000445</td>\n",
       "      <td>0.005315</td>\n",
       "      <td>0.005315</td>\n",
       "      <td>0.318417</td>\n",
       "    </tr>\n",
       "    <tr>\n",
       "      <th>2018-09-19</th>\n",
       "      <td>0.004281</td>\n",
       "      <td>0.000886</td>\n",
       "      <td>0.002847</td>\n",
       "      <td>-0.001431</td>\n",
       "      <td>-0.001431</td>\n",
       "      <td>0.216504</td>\n",
       "    </tr>\n",
       "    <tr>\n",
       "      <th>2018-09-20</th>\n",
       "      <td>-0.000665</td>\n",
       "      <td>-0.001518</td>\n",
       "      <td>-0.004470</td>\n",
       "      <td>-0.001615</td>\n",
       "      <td>-0.001615</td>\n",
       "      <td>-0.310466</td>\n",
       "    </tr>\n",
       "    <tr>\n",
       "      <th>2018-09-21</th>\n",
       "      <td>-0.002179</td>\n",
       "      <td>-0.001603</td>\n",
       "      <td>-0.000382</td>\n",
       "      <td>-0.003368</td>\n",
       "      <td>-0.003368</td>\n",
       "      <td>1.746260</td>\n",
       "    </tr>\n",
       "  </tbody>\n",
       "</table>\n",
       "</div>"
      ],
      "text/plain": [
       "                Open      High       Low     Close  Adj Close    Volume\n",
       "Date                                                                   \n",
       "2018-09-17       NaN       NaN       NaN       NaN        NaN       NaN\n",
       "2018-09-18 -0.002867  0.000673  0.000445  0.005315   0.005315  0.318417\n",
       "2018-09-19  0.004281  0.000886  0.002847 -0.001431  -0.001431  0.216504\n",
       "2018-09-20 -0.000665 -0.001518 -0.004470 -0.001615  -0.001615 -0.310466\n",
       "2018-09-21 -0.002179 -0.001603 -0.000382 -0.003368  -0.003368  1.746260"
      ]
     },
     "execution_count": 34,
     "metadata": {},
     "output_type": "execute_result"
    }
   ],
   "source": [
    "np.log(ipc).diff(periods=1, axis=0).head()"
   ]
  },
  {
   "cell_type": "code",
   "execution_count": 36,
   "metadata": {},
   "outputs": [
    {
     "data": {
      "text/html": [
       "<div>\n",
       "<style scoped>\n",
       "    .dataframe tbody tr th:only-of-type {\n",
       "        vertical-align: middle;\n",
       "    }\n",
       "\n",
       "    .dataframe tbody tr th {\n",
       "        vertical-align: top;\n",
       "    }\n",
       "\n",
       "    .dataframe thead th {\n",
       "        text-align: right;\n",
       "    }\n",
       "</style>\n",
       "<table border=\"1\" class=\"dataframe\">\n",
       "  <thead>\n",
       "    <tr style=\"text-align: right;\">\n",
       "      <th></th>\n",
       "      <th>Open</th>\n",
       "      <th>High</th>\n",
       "      <th>Low</th>\n",
       "      <th>Close</th>\n",
       "      <th>Adj Close</th>\n",
       "      <th>Volume</th>\n",
       "    </tr>\n",
       "    <tr>\n",
       "      <th>Date</th>\n",
       "      <th></th>\n",
       "      <th></th>\n",
       "      <th></th>\n",
       "      <th></th>\n",
       "      <th></th>\n",
       "      <th></th>\n",
       "    </tr>\n",
       "  </thead>\n",
       "  <tbody>\n",
       "    <tr>\n",
       "      <th>2018-09-17</th>\n",
       "      <td>NaN</td>\n",
       "      <td>NaN</td>\n",
       "      <td>NaN</td>\n",
       "      <td>NaN</td>\n",
       "      <td>NaN</td>\n",
       "      <td>NaN</td>\n",
       "    </tr>\n",
       "    <tr>\n",
       "      <th>2018-09-18</th>\n",
       "      <td>-0.002863</td>\n",
       "      <td>0.000673</td>\n",
       "      <td>0.000445</td>\n",
       "      <td>0.005329</td>\n",
       "      <td>0.005329</td>\n",
       "      <td>0.374950</td>\n",
       "    </tr>\n",
       "    <tr>\n",
       "      <th>2018-09-19</th>\n",
       "      <td>0.004290</td>\n",
       "      <td>0.000887</td>\n",
       "      <td>0.002851</td>\n",
       "      <td>-0.001430</td>\n",
       "      <td>-0.001430</td>\n",
       "      <td>0.241728</td>\n",
       "    </tr>\n",
       "    <tr>\n",
       "      <th>2018-09-20</th>\n",
       "      <td>-0.000665</td>\n",
       "      <td>-0.001516</td>\n",
       "      <td>-0.004460</td>\n",
       "      <td>-0.001613</td>\n",
       "      <td>-0.001613</td>\n",
       "      <td>-0.266894</td>\n",
       "    </tr>\n",
       "    <tr>\n",
       "      <th>2018-09-21</th>\n",
       "      <td>-0.002177</td>\n",
       "      <td>-0.001602</td>\n",
       "      <td>-0.000382</td>\n",
       "      <td>-0.003363</td>\n",
       "      <td>-0.003363</td>\n",
       "      <td>4.733119</td>\n",
       "    </tr>\n",
       "  </tbody>\n",
       "</table>\n",
       "</div>"
      ],
      "text/plain": [
       "                Open      High       Low     Close  Adj Close    Volume\n",
       "Date                                                                   \n",
       "2018-09-17       NaN       NaN       NaN       NaN        NaN       NaN\n",
       "2018-09-18 -0.002863  0.000673  0.000445  0.005329   0.005329  0.374950\n",
       "2018-09-19  0.004290  0.000887  0.002851 -0.001430  -0.001430  0.241728\n",
       "2018-09-20 -0.000665 -0.001516 -0.004460 -0.001613  -0.001613 -0.266894\n",
       "2018-09-21 -0.002177 -0.001602 -0.000382 -0.003363  -0.003363  4.733119"
      ]
     },
     "execution_count": 36,
     "metadata": {},
     "output_type": "execute_result"
    }
   ],
   "source": [
    "ipc.pct_change().head()"
   ]
  },
  {
   "cell_type": "code",
   "execution_count": 50,
   "metadata": {},
   "outputs": [
    {
     "data": {
      "image/png": "[encoded data removed]",
      "text/plain": [
       "<Figure size 432x288 with 1 Axes>"
      ]
     },
     "metadata": {
      "needs_background": "light"
     },
     "output_type": "display_data"
    }
   ],
   "source": [
    "ipc[['Open','Close']].plot();"
   ]
  },
  {
   "cell_type": "code",
   "execution_count": 43,
   "metadata": {},
   "outputs": [],
   "source": [
    "ipc['Rolling Average'] = ipc.Close.rolling(30).mean()\n",
    "ipc['Rolling SD'] = ipc.Close.rolling(30).std()"
   ]
  },
  {
   "cell_type": "code",
   "execution_count": 46,
   "metadata": {},
   "outputs": [
    {
     "data": {
      "image/png": "[encoded data removed]",
      "text/plain": [
       "<Figure size 432x288 with 1 Axes>"
      ]
     },
     "metadata": {
      "needs_background": "light"
     },
     "output_type": "display_data"
    }
   ],
   "source": [
    "ipc[['Close','Rolling Average']].plot();"
   ]
  },
  {
   "cell_type": "code",
   "execution_count": 48,
   "metadata": {},
   "outputs": [
    {
     "data": {
      "image/png": "[encoded data removed]",
      "text/plain": [
       "<Figure size 432x288 with 1 Axes>"
      ]
     },
     "metadata": {
      "needs_background": "light"
     },
     "output_type": "display_data"
    }
   ],
   "source": [
    "ipc[['Rolling SD']].plot();"
   ]
  },
  {
   "cell_type": "code",
   "execution_count": 53,
   "metadata": {},
   "outputs": [],
   "source": [
    "P = pd.DataFrame({\"Activo\": ['IPC', 'NASDAQ', 'EUROSTOXX'],\n",
    "                   \"Precio\": [np.nan, 42032, 12530],\n",
    "                   \"Fecha\": [pd.NaT, pd.Timestamp(\"2018-04-25\"),\n",
    "                             pd.NaT]})"
   ]
  },
  {
   "cell_type": "code",
   "execution_count": 54,
   "metadata": {},
   "outputs": [
    {
     "data": {
      "text/html": [
       "<div>\n",
       "<style scoped>\n",
       "    .dataframe tbody tr th:only-of-type {\n",
       "        vertical-align: middle;\n",
       "    }\n",
       "\n",
       "    .dataframe tbody tr th {\n",
       "        vertical-align: top;\n",
       "    }\n",
       "\n",
       "    .dataframe thead th {\n",
       "        text-align: right;\n",
       "    }\n",
       "</style>\n",
       "<table border=\"1\" class=\"dataframe\">\n",
       "  <thead>\n",
       "    <tr style=\"text-align: right;\">\n",
       "      <th></th>\n",
       "      <th>Activo</th>\n",
       "      <th>Precio</th>\n",
       "      <th>Fecha</th>\n",
       "    </tr>\n",
       "  </thead>\n",
       "  <tbody>\n",
       "    <tr>\n",
       "      <th>0</th>\n",
       "      <td>IPC</td>\n",
       "      <td>NaN</td>\n",
       "      <td>NaT</td>\n",
       "    </tr>\n",
       "    <tr>\n",
       "      <th>1</th>\n",
       "      <td>NASDAQ</td>\n",
       "      <td>42032.0</td>\n",
       "      <td>2018-04-25</td>\n",
       "    </tr>\n",
       "    <tr>\n",
       "      <th>2</th>\n",
       "      <td>EUROSTOXX</td>\n",
       "      <td>12530.0</td>\n",
       "      <td>NaT</td>\n",
       "    </tr>\n",
       "  </tbody>\n",
       "</table>\n",
       "</div>"
      ],
      "text/plain": [
       "      Activo   Precio      Fecha\n",
       "0        IPC      NaN        NaT\n",
       "1     NASDAQ  42032.0 2018-04-25\n",
       "2  EUROSTOXX  12530.0        NaT"
      ]
     },
     "execution_count": 54,
     "metadata": {},
     "output_type": "execute_result"
    }
   ],
   "source": [
    "P"
   ]
  },
  {
   "cell_type": "code",
   "execution_count": 56,
   "metadata": {},
   "outputs": [
    {
     "data": {
      "text/html": [
       "<div>\n",
       "<style scoped>\n",
       "    .dataframe tbody tr th:only-of-type {\n",
       "        vertical-align: middle;\n",
       "    }\n",
       "\n",
       "    .dataframe tbody tr th {\n",
       "        vertical-align: top;\n",
       "    }\n",
       "\n",
       "    .dataframe thead th {\n",
       "        text-align: right;\n",
       "    }\n",
       "</style>\n",
       "<table border=\"1\" class=\"dataframe\">\n",
       "  <thead>\n",
       "    <tr style=\"text-align: right;\">\n",
       "      <th></th>\n",
       "      <th>Activo</th>\n",
       "      <th>Precio</th>\n",
       "      <th>Fecha</th>\n",
       "    </tr>\n",
       "  </thead>\n",
       "  <tbody>\n",
       "    <tr>\n",
       "      <th>1</th>\n",
       "      <td>NASDAQ</td>\n",
       "      <td>42032.0</td>\n",
       "      <td>2018-04-25</td>\n",
       "    </tr>\n",
       "  </tbody>\n",
       "</table>\n",
       "</div>"
      ],
      "text/plain": [
       "   Activo   Precio      Fecha\n",
       "1  NASDAQ  42032.0 2018-04-25"
      ]
     },
     "execution_count": 56,
     "metadata": {},
     "output_type": "execute_result"
    }
   ],
   "source": [
    "# Descarta las filas donde falta al menos un elemento.\n",
    "P.dropna()"
   ]
  },
  {
   "cell_type": "code",
   "execution_count": 57,
   "metadata": {},
   "outputs": [
    {
     "data": {
      "text/html": [
       "<div>\n",
       "<style scoped>\n",
       "    .dataframe tbody tr th:only-of-type {\n",
       "        vertical-align: middle;\n",
       "    }\n",
       "\n",
       "    .dataframe tbody tr th {\n",
       "        vertical-align: top;\n",
       "    }\n",
       "\n",
       "    .dataframe thead th {\n",
       "        text-align: right;\n",
       "    }\n",
       "</style>\n",
       "<table border=\"1\" class=\"dataframe\">\n",
       "  <thead>\n",
       "    <tr style=\"text-align: right;\">\n",
       "      <th></th>\n",
       "      <th>Activo</th>\n",
       "    </tr>\n",
       "  </thead>\n",
       "  <tbody>\n",
       "    <tr>\n",
       "      <th>0</th>\n",
       "      <td>IPC</td>\n",
       "    </tr>\n",
       "    <tr>\n",
       "      <th>1</th>\n",
       "      <td>NASDAQ</td>\n",
       "    </tr>\n",
       "    <tr>\n",
       "      <th>2</th>\n",
       "      <td>EUROSTOXX</td>\n",
       "    </tr>\n",
       "  </tbody>\n",
       "</table>\n",
       "</div>"
      ],
      "text/plain": [
       "      Activo\n",
       "0        IPC\n",
       "1     NASDAQ\n",
       "2  EUROSTOXX"
      ]
     },
     "execution_count": 57,
     "metadata": {},
     "output_type": "execute_result"
    }
   ],
   "source": [
    "#Descarta las columnas donde falta al menos un elemento.\n",
    "P.dropna(axis = 'columns')"
   ]
  },
  {
   "cell_type": "code",
   "execution_count": 59,
   "metadata": {},
   "outputs": [
    {
     "data": {
      "text/html": [
       "<div>\n",
       "<style scoped>\n",
       "    .dataframe tbody tr th:only-of-type {\n",
       "        vertical-align: middle;\n",
       "    }\n",
       "\n",
       "    .dataframe tbody tr th {\n",
       "        vertical-align: top;\n",
       "    }\n",
       "\n",
       "    .dataframe thead th {\n",
       "        text-align: right;\n",
       "    }\n",
       "</style>\n",
       "<table border=\"1\" class=\"dataframe\">\n",
       "  <thead>\n",
       "    <tr style=\"text-align: right;\">\n",
       "      <th></th>\n",
       "      <th>Activo</th>\n",
       "      <th>Precio</th>\n",
       "      <th>Fecha</th>\n",
       "    </tr>\n",
       "  </thead>\n",
       "  <tbody>\n",
       "    <tr>\n",
       "      <th>0</th>\n",
       "      <td>IPC</td>\n",
       "      <td>NaN</td>\n",
       "      <td>NaT</td>\n",
       "    </tr>\n",
       "    <tr>\n",
       "      <th>1</th>\n",
       "      <td>NASDAQ</td>\n",
       "      <td>42032.0</td>\n",
       "      <td>2018-04-25</td>\n",
       "    </tr>\n",
       "    <tr>\n",
       "      <th>2</th>\n",
       "      <td>EUROSTOXX</td>\n",
       "      <td>12530.0</td>\n",
       "      <td>NaT</td>\n",
       "    </tr>\n",
       "  </tbody>\n",
       "</table>\n",
       "</div>"
      ],
      "text/plain": [
       "      Activo   Precio      Fecha\n",
       "0        IPC      NaN        NaT\n",
       "1     NASDAQ  42032.0 2018-04-25\n",
       "2  EUROSTOXX  12530.0        NaT"
      ]
     },
     "execution_count": 59,
     "metadata": {},
     "output_type": "execute_result"
    }
   ],
   "source": [
    "#Descarta las filas donde faltan todos los elementos.\n",
    "P.dropna(how='all')"
   ]
  },
  {
   "cell_type": "code",
   "execution_count": 60,
   "metadata": {},
   "outputs": [
    {
     "data": {
      "text/html": [
       "<div>\n",
       "<style scoped>\n",
       "    .dataframe tbody tr th:only-of-type {\n",
       "        vertical-align: middle;\n",
       "    }\n",
       "\n",
       "    .dataframe tbody tr th {\n",
       "        vertical-align: top;\n",
       "    }\n",
       "\n",
       "    .dataframe thead th {\n",
       "        text-align: right;\n",
       "    }\n",
       "</style>\n",
       "<table border=\"1\" class=\"dataframe\">\n",
       "  <thead>\n",
       "    <tr style=\"text-align: right;\">\n",
       "      <th></th>\n",
       "      <th>Activo</th>\n",
       "      <th>Precio</th>\n",
       "      <th>Fecha</th>\n",
       "    </tr>\n",
       "  </thead>\n",
       "  <tbody>\n",
       "    <tr>\n",
       "      <th>1</th>\n",
       "      <td>NASDAQ</td>\n",
       "      <td>42032.0</td>\n",
       "      <td>2018-04-25</td>\n",
       "    </tr>\n",
       "    <tr>\n",
       "      <th>2</th>\n",
       "      <td>EUROSTOXX</td>\n",
       "      <td>12530.0</td>\n",
       "      <td>NaT</td>\n",
       "    </tr>\n",
       "  </tbody>\n",
       "</table>\n",
       "</div>"
      ],
      "text/plain": [
       "      Activo   Precio      Fecha\n",
       "1     NASDAQ  42032.0 2018-04-25\n",
       "2  EUROSTOXX  12530.0        NaT"
      ]
     },
     "execution_count": 60,
     "metadata": {},
     "output_type": "execute_result"
    }
   ],
   "source": [
    "#Mantiene solo las filas con al menos 2 valores no NA.\n",
    "P.dropna(thresh=2)"
   ]
  },
  {
   "cell_type": "code",
   "execution_count": 61,
   "metadata": {},
   "outputs": [
    {
     "data": {
      "text/html": [
       "<div>\n",
       "<style scoped>\n",
       "    .dataframe tbody tr th:only-of-type {\n",
       "        vertical-align: middle;\n",
       "    }\n",
       "\n",
       "    .dataframe tbody tr th {\n",
       "        vertical-align: top;\n",
       "    }\n",
       "\n",
       "    .dataframe thead th {\n",
       "        text-align: right;\n",
       "    }\n",
       "</style>\n",
       "<table border=\"1\" class=\"dataframe\">\n",
       "  <thead>\n",
       "    <tr style=\"text-align: right;\">\n",
       "      <th></th>\n",
       "      <th>Activo</th>\n",
       "      <th>Precio</th>\n",
       "      <th>Fecha</th>\n",
       "    </tr>\n",
       "  </thead>\n",
       "  <tbody>\n",
       "    <tr>\n",
       "      <th>1</th>\n",
       "      <td>NASDAQ</td>\n",
       "      <td>42032.0</td>\n",
       "      <td>2018-04-25</td>\n",
       "    </tr>\n",
       "  </tbody>\n",
       "</table>\n",
       "</div>"
      ],
      "text/plain": [
       "   Activo   Precio      Fecha\n",
       "1  NASDAQ  42032.0 2018-04-25"
      ]
     },
     "execution_count": 61,
     "metadata": {},
     "output_type": "execute_result"
    }
   ],
   "source": [
    "#Definir en qué columnas buscamos los valores faltantes\n",
    "P.dropna(subset=['Activo', 'Fecha'])"
   ]
  },
  {
   "cell_type": "code",
   "execution_count": 62,
   "metadata": {},
   "outputs": [
    {
     "data": {
      "text/html": [
       "<div>\n",
       "<style scoped>\n",
       "    .dataframe tbody tr th:only-of-type {\n",
       "        vertical-align: middle;\n",
       "    }\n",
       "\n",
       "    .dataframe tbody tr th {\n",
       "        vertical-align: top;\n",
       "    }\n",
       "\n",
       "    .dataframe thead th {\n",
       "        text-align: right;\n",
       "    }\n",
       "</style>\n",
       "<table border=\"1\" class=\"dataframe\">\n",
       "  <thead>\n",
       "    <tr style=\"text-align: right;\">\n",
       "      <th></th>\n",
       "      <th>Activo</th>\n",
       "      <th>Precio</th>\n",
       "      <th>Fecha</th>\n",
       "    </tr>\n",
       "  </thead>\n",
       "  <tbody>\n",
       "    <tr>\n",
       "      <th>1</th>\n",
       "      <td>NASDAQ</td>\n",
       "      <td>42032.0</td>\n",
       "      <td>2018-04-25</td>\n",
       "    </tr>\n",
       "  </tbody>\n",
       "</table>\n",
       "</div>"
      ],
      "text/plain": [
       "   Activo   Precio      Fecha\n",
       "1  NASDAQ  42032.0 2018-04-25"
      ]
     },
     "execution_count": 62,
     "metadata": {},
     "output_type": "execute_result"
    }
   ],
   "source": [
    "#Mantener el DataFrame con entradas válidas en la misma variable.\n",
    "P.dropna(inplace=True)\n",
    "P"
   ]
  }
 ],
 "metadata": {
  "kernelspec": {
   "display_name": "Python 3",
   "language": "python",
   "name": "python3"
  },
  "language_info": {
   "codemirror_mode": {
    "name": "ipython",
    "version": 3
   },
   "file_extension": ".py",
   "mimetype": "text/x-python",
   "name": "python",
   "nbconvert_exporter": "python",
   "pygments_lexer": "ipython3",
   "version": "3.6.8"
  }
 },
 "nbformat": 4,
 "nbformat_minor": 2
}
